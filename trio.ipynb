{
 "cells": [
  {
   "cell_type": "code",
   "execution_count": 23,
   "id": "dafabca6-35a0-4e65-b06d-03f98e8b72a3",
   "metadata": {
    "tags": []
   },
   "outputs": [],
   "source": [
    "import trio_autoawait\n",
    "%autoawait trio_autoawait.run_in_trio"
   ]
  },
  {
   "cell_type": "code",
   "execution_count": 1,
   "id": "49d6e63e-0d34-4f0d-8160-a25805379fc0",
   "metadata": {
    "tags": []
   },
   "outputs": [],
   "source": [
    "# \n",
    "#\n",
    "# Additional control:\n",
    "# \n",
    "# trio_autoawait.stop()   # stop the Trio run\n",
    "# trio_autoawait.start()  # start it -- restart if already running\n"
   ]
  },
  {
   "cell_type": "code",
   "execution_count": 19,
   "id": "56b7ff0a-c648-4aeb-b8fa-503168045792",
   "metadata": {
    "tags": []
   },
   "outputs": [],
   "source": []
  },
  {
   "cell_type": "code",
   "execution_count": 20,
   "id": "2df0186c-05d0-488d-8136-52226d21fc4b",
   "metadata": {
    "tags": []
   },
   "outputs": [],
   "source": [
    "import trio"
   ]
  },
  {
   "cell_type": "code",
   "execution_count": 21,
   "id": "c270a80e-787e-4481-a25d-106e41ac3b58",
   "metadata": {
    "tags": []
   },
   "outputs": [],
   "source": [
    "await trio.sleep(0)"
   ]
  },
  {
   "cell_type": "code",
   "execution_count": 22,
   "id": "16a77070-083c-48cc-991d-95fdf8b3704f",
   "metadata": {
    "tags": []
   },
   "outputs": [
    {
     "data": {
      "text/plain": [
       "291593.39950810524"
      ]
     },
     "execution_count": 22,
     "metadata": {},
     "output_type": "execute_result"
    }
   ],
   "source": [
    "trio.current_time()"
   ]
  },
  {
   "cell_type": "code",
   "execution_count": null,
   "id": "422b224a-0207-4cd3-9332-589d7dee6038",
   "metadata": {},
   "outputs": [],
   "source": []
  },
  {
   "cell_type": "code",
   "execution_count": 35,
   "id": "f13ea39f-29be-4560-bc4a-a9596971ca55",
   "metadata": {
    "tags": []
   },
   "outputs": [
    {
     "name": "stderr",
     "output_type": "stream",
     "text": [
      "/var/folders/6_/7xx0tpq16h9cn40mq4w5gjk80000gn/T/ipykernel_17638/1193476661.py:6: TrioDeprecationWarning: trio.open_process is deprecated since Trio 0.20.0; use trio.lowlevel.open_process instead (https://github.com/python-trio/trio/issues/1104)\n",
      "  async with await trio.open_process(cmd, stdout=PIPE, stderr=STDOUT) as process:\n",
      "/var/folders/6_/7xx0tpq16h9cn40mq4w5gjk80000gn/T/ipykernel_17638/1193476661.py:6: TrioDeprecationWarning: using trio.Process as an async context manager is deprecated since Trio 0.20.0; use run_process or nursery.start(run_process, ...) instead (https://github.com/python-trio/trio/issues/1104)\n",
      "  async with await trio.open_process(cmd, stdout=PIPE, stderr=STDOUT) as process:\n"
     ]
    },
    {
     "name": "stdout",
     "output_type": "stream",
     "text": [
      "b'PING google.com (172.217.167.78): 56 data bytes\\n64 bytes from 172.217.167.78: icmp_seq=0 ttl=118 time=17.542 ms\\n'\n",
      "b'64 bytes from 172.217.167.78: icmp_seq=1 ttl=118 time=17.261 ms\\n'\n",
      "b'64 bytes from 172.217.167.78: icmp_seq=2 ttl=118 time=22.511 ms\\n'\n",
      "b'64 bytes from 172.217.167.78: icmp_seq=3 ttl=118 time=23.885 ms\\n'\n"
     ]
    },
    {
     "ename": "KeyboardInterrupt",
     "evalue": "",
     "output_type": "error",
     "traceback": [
      "\u001b[0;31m---------------------------------------------------------------------------\u001b[0m",
      "\u001b[0;31mKeyboardInterrupt\u001b[0m                         Traceback (most recent call last)",
      "File \u001b[0;32m~/dev/python_concurrency/trio_autoawait.py:36\u001b[0m, in \u001b[0;36mrun_in_trio\u001b[0;34m(coro)\u001b[0m\n\u001b[1;32m     33\u001b[0m trio\u001b[38;5;241m.\u001b[39mlowlevel\u001b[38;5;241m.\u001b[39mspawn_system_task(wrapper)\n\u001b[1;32m     35\u001b[0m \u001b[38;5;28;01mwhile\u001b[39;00m \u001b[38;5;28;01mTrue\u001b[39;00m:\n\u001b[0;32m---> 36\u001b[0m     kind, arg \u001b[38;5;241m=\u001b[39m \u001b[43mrequests\u001b[49m\u001b[38;5;241;43m.\u001b[39;49m\u001b[43mget\u001b[49m\u001b[43m(\u001b[49m\u001b[43m)\u001b[49m\n\u001b[1;32m     37\u001b[0m     \u001b[38;5;28;01mif\u001b[39;00m kind \u001b[38;5;241m==\u001b[39m \u001b[38;5;124m\"\u001b[39m\u001b[38;5;124mreturn\u001b[39m\u001b[38;5;124m\"\u001b[39m:\n\u001b[1;32m     38\u001b[0m         \u001b[38;5;28;01mreturn\u001b[39;00m arg\u001b[38;5;241m.\u001b[39munwrap()\n",
      "\u001b[0;31mKeyboardInterrupt\u001b[0m: "
     ]
    }
   ],
   "source": [
    "from subprocess import PIPE, STDOUT\n",
    "import trio\n",
    "\n",
    "async def ping():\n",
    "    cmd = ['ping', 'google.com']\n",
    "    async with await trio.open_process(cmd, stdout=PIPE, stderr=STDOUT) as process:\n",
    "        while True:\n",
    "            res = await process.stdout.receive_some()\n",
    "            if not res:\n",
    "                break\n",
    "            print(res)\n",
    "\n",
    "await ping()"
   ]
  },
  {
   "cell_type": "code",
   "execution_count": 29,
   "id": "9d8dfc42-0747-4101-a5f0-efdd78a2bbcf",
   "metadata": {
    "tags": []
   },
   "outputs": [],
   "source": [
    "import multiprocessing\n",
    "multiprocessing.freeze_support()"
   ]
  },
  {
   "cell_type": "code",
   "execution_count": 30,
   "id": "4c21a950-f30d-4eea-8256-534d55cd7420",
   "metadata": {
    "tags": []
   },
   "outputs": [],
   "source": [
    "import functools\n",
    "import multiprocessing\n",
    "import trio\n",
    "import trio_parallel\n",
    "\n",
    "\n",
    "def loop(n):\n",
    "    # Arbitrary CPU-bound work\n",
    "    for _ in range(n):\n",
    "        pass\n",
    "    print(\"Loops completed:\", n)\n",
    "\n",
    "\n",
    "async def amain():\n",
    "    t0 = trio.current_time()\n",
    "    async with trio.open_nursery() as nursery:\n",
    "        # Do CPU-bound work in parallel\n",
    "        for i in [6, 7, 8] * 4:\n",
    "            nursery.start_soon(trio_parallel.run_sync, loop, 10 ** i)\n",
    "        # Event loop remains responsive\n",
    "        t1 = trio.current_time()\n",
    "        await trio.sleep(0)\n",
    "        print(\"Scheduling latency:\", trio.current_time() - t1)\n",
    "        # This job could take far too long, make it cancellable!\n",
    "        nursery.start_soon(\n",
    "            functools.partial(\n",
    "                trio_parallel.run_sync, loop, 10 ** 20, cancellable=True\n",
    "            )\n",
    "        )\n",
    "        await trio.sleep(2)\n",
    "        # Only explicitly cancellable jobs are killed on cancel\n",
    "        nursery.cancel_scope.cancel()\n",
    "    print(\"Total runtime:\", trio.current_time() - t0)"
   ]
  },
  {
   "cell_type": "code",
   "execution_count": 36,
   "id": "ce591525-1c86-4831-8bee-c7acf4090878",
   "metadata": {
    "tags": []
   },
   "outputs": [
    {
     "name": "stdout",
     "output_type": "stream",
     "text": [
      "b'\\n--- google.com ping statistics ---\\n4 packets transmitted, 4 packets received, 0.0% packet loss\\nround-trip min/avg/max/stddev = 17.261/20.300/23.885/2.940 ms\\n'\n",
      "Scheduling latency: 0.0024011669447645545\n",
      "ERROR! Session/line number was not unique in database. History logging moved to new session 8\n"
     ]
    },
    {
     "name": "stderr",
     "output_type": "stream",
     "text": [
      "/Users/madhavajay/.local/share/virtualenvs/python_concurrency-2ltfH85i/lib/python3.10/site-packages/trio/_abc.py:261: TrioDeprecationWarning: trio.Process.aclose is deprecated since Trio 0.20.0; use run_process or nursery.start(run_process, ...) instead (https://github.com/python-trio/trio/issues/1104)\n",
      "  await self.aclose()\n",
      "Traceback (most recent call last):\n",
      "  File \"<string>\", line 1, in <module>\n",
      "  File \"/Users/madhavajay/.pyenv/versions/3.10.9/lib/python3.10/multiprocessing/spawn.py\", line 116, in spawn_main\n",
      "    exitcode = _main(fd, parent_sentinel)\n",
      "  File \"/Users/madhavajay/.pyenv/versions/3.10.9/lib/python3.10/multiprocessing/spawn.py\", line 125, in _main\n",
      "    prepare(preparation_data)\n",
      "  File \"/Users/madhavajay/.pyenv/versions/3.10.9/lib/python3.10/multiprocessing/spawn.py\", line 236, in prepare\n",
      "    _fixup_main_from_path(data['init_main_from_path'])\n",
      "  File \"/Users/madhavajay/.pyenv/versions/3.10.9/lib/python3.10/multiprocessing/spawn.py\", line 287, in _fixup_main_from_path\n",
      "    main_content = runpy.run_path(main_path,\n",
      "  File \"/Users/madhavajay/.pyenv/versions/3.10.9/lib/python3.10/runpy.py\", line 289, in run_path\n",
      "    return _run_module_code(code, init_globals, run_name,\n",
      "  File \"/Users/madhavajay/.pyenv/versions/3.10.9/lib/python3.10/runpy.py\", line 96, in _run_module_code\n",
      "    _run_code(code, mod_globals, init_globals,\n",
      "  File \"/Users/madhavajay/.pyenv/versions/3.10.9/lib/python3.10/runpy.py\", line 86, in _run_code\n",
      "Traceback (most recent call last):\n",
      "  File \"<string>\", line 1, in <module>\n",
      "    exec(code, run_globals)\n",
      "  File \"/Users/madhavajay/dev/python_concurrency/Untitled.ipynb\", line 92, in <module>\n",
      "  File \"/Users/madhavajay/.pyenv/versions/3.10.9/lib/python3.10/multiprocessing/spawn.py\", line 116, in spawn_main\n",
      "    \"execution_count\": null,\n",
      "NameError: name 'null' is not defined\n",
      "    exitcode = _main(fd, parent_sentinel)\n",
      "  File \"/Users/madhavajay/.pyenv/versions/3.10.9/lib/python3.10/multiprocessing/spawn.py\", line 125, in _main\n",
      "    prepare(preparation_data)\n",
      "  File \"/Users/madhavajay/.pyenv/versions/3.10.9/lib/python3.10/multiprocessing/spawn.py\", line 236, in prepare\n",
      "    _fixup_main_from_path(data['init_main_from_path'])\n",
      "  File \"/Users/madhavajay/.pyenv/versions/3.10.9/lib/python3.10/multiprocessing/spawn.py\", line 287, in _fixup_main_from_path\n",
      "    main_content = runpy.run_path(main_path,\n",
      "  File \"/Users/madhavajay/.pyenv/versions/3.10.9/lib/python3.10/runpy.py\", line 289, in run_path\n",
      "    return _run_module_code(code, init_globals, run_name,\n",
      "  File \"/Users/madhavajay/.pyenv/versions/3.10.9/lib/python3.10/runpy.py\", line 96, in _run_module_code\n",
      "    _run_code(code, mod_globals, init_globals,\n",
      "  File \"/Users/madhavajay/.pyenv/versions/3.10.9/lib/python3.10/runpy.py\", line 86, in _run_code\n",
      "    exec(code, run_globals)\n",
      "  File \"/Users/madhavajay/dev/python_concurrency/Untitled.ipynb\", line 92, in <module>\n",
      "    \"execution_count\": null,\n",
      "NameError: name 'null' is not defined\n",
      "Traceback (most recent call last):\n",
      "  File \"<string>\", line 1, in <module>\n",
      "  File \"/Users/madhavajay/.pyenv/versions/3.10.9/lib/python3.10/multiprocessing/spawn.py\", line 116, in spawn_main\n",
      "    exitcode = _main(fd, parent_sentinel)\n",
      "  File \"/Users/madhavajay/.pyenv/versions/3.10.9/lib/python3.10/multiprocessing/spawn.py\", line 125, in _main\n",
      "    prepare(preparation_data)\n",
      "  File \"/Users/madhavajay/.pyenv/versions/3.10.9/lib/python3.10/multiprocessing/spawn.py\", line 236, in prepare\n",
      "    _fixup_main_from_path(data['init_main_from_path'])\n",
      "  File \"/Users/madhavajay/.pyenv/versions/3.10.9/lib/python3.10/multiprocessing/spawn.py\", line 287, in _fixup_main_from_path\n",
      "    main_content = runpy.run_path(main_path,\n",
      "  File \"/Users/madhavajay/.pyenv/versions/3.10.9/lib/python3.10/runpy.py\", line 289, in run_path\n",
      "    return _run_module_code(code, init_globals, run_name,\n",
      "  File \"/Users/madhavajay/.pyenv/versions/3.10.9/lib/python3.10/runpy.py\", line 96, in _run_module_code\n",
      "    _run_code(code, mod_globals, init_globals,\n",
      "  File \"/Users/madhavajay/.pyenv/versions/3.10.9/lib/python3.10/runpy.py\", line 86, in _run_code\n",
      "    exec(code, run_globals)\n",
      "  File \"/Users/madhavajay/dev/python_concurrency/Untitled.ipynb\", line 92, in <module>\n",
      "    \"execution_count\": null,\n",
      "NameError: name 'null' is not defined\n",
      "Traceback (most recent call last):\n",
      "  File \"<string>\", line 1, in <module>\n",
      "  File \"/Users/madhavajay/.pyenv/versions/3.10.9/lib/python3.10/multiprocessing/spawn.py\", line 116, in spawn_main\n",
      "    exitcode = _main(fd, parent_sentinel)\n",
      "  File \"/Users/madhavajay/.pyenv/versions/3.10.9/lib/python3.10/multiprocessing/spawn.py\", line 125, in _main\n",
      "    prepare(preparation_data)\n",
      "  File \"/Users/madhavajay/.pyenv/versions/3.10.9/lib/python3.10/multiprocessing/spawn.py\", line 236, in prepare\n",
      "    _fixup_main_from_path(data['init_main_from_path'])\n",
      "  File \"/Users/madhavajay/.pyenv/versions/3.10.9/lib/python3.10/multiprocessing/spawn.py\", line 287, in _fixup_main_from_path\n",
      "    main_content = runpy.run_path(main_path,\n",
      "  File \"/Users/madhavajay/.pyenv/versions/3.10.9/lib/python3.10/runpy.py\", line 289, in run_path\n",
      "    return _run_module_code(code, init_globals, run_name,\n",
      "  File \"/Users/madhavajay/.pyenv/versions/3.10.9/lib/python3.10/runpy.py\", line 96, in _run_module_code\n",
      "    _run_code(code, mod_globals, init_globals,\n",
      "  File \"/Users/madhavajay/.pyenv/versions/3.10.9/lib/python3.10/runpy.py\", line 86, in _run_code\n",
      "    exec(code, run_globals)\n",
      "  File \"/Users/madhavajay/dev/python_concurrency/Untitled.ipynb\", line 92, in <module>\n",
      "    \"execution_count\": null,\n",
      "NameError: name 'null' is not defined\n",
      "Traceback (most recent call last):\n",
      "  File \"<string>\", line 1, in <module>\n",
      "  File \"/Users/madhavajay/.pyenv/versions/3.10.9/lib/python3.10/multiprocessing/spawn.py\", line 116, in spawn_main\n",
      "    exitcode = _main(fd, parent_sentinel)\n",
      "  File \"/Users/madhavajay/.pyenv/versions/3.10.9/lib/python3.10/multiprocessing/spawn.py\", line 125, in _main\n",
      "    prepare(preparation_data)\n",
      "  File \"/Users/madhavajay/.pyenv/versions/3.10.9/lib/python3.10/multiprocessing/spawn.py\", line 236, in prepare\n",
      "    _fixup_main_from_path(data['init_main_from_path'])\n",
      "  File \"/Users/madhavajay/.pyenv/versions/3.10.9/lib/python3.10/multiprocessing/spawn.py\", line 287, in _fixup_main_from_path\n",
      "    main_content = runpy.run_path(main_path,\n",
      "  File \"/Users/madhavajay/.pyenv/versions/3.10.9/lib/python3.10/runpy.py\", line 289, in run_path\n",
      "    return _run_module_code(code, init_globals, run_name,\n",
      "  File \"/Users/madhavajay/.pyenv/versions/3.10.9/lib/python3.10/runpy.py\", line 96, in _run_module_code\n",
      "    _run_code(code, mod_globals, init_globals,\n",
      "  File \"/Users/madhavajay/.pyenv/versions/3.10.9/lib/python3.10/runpy.py\", line 86, in _run_code\n",
      "    exec(code, run_globals)\n",
      "  File \"/Users/madhavajay/dev/python_concurrency/Untitled.ipynb\", line 92, in <module>\n",
      "    \"execution_count\": null,\n",
      "NameError: name 'null' is not defined\n",
      "Traceback (most recent call last):\n",
      "  File \"<string>\", line 1, in <module>\n",
      "  File \"/Users/madhavajay/.pyenv/versions/3.10.9/lib/python3.10/multiprocessing/spawn.py\", line 116, in spawn_main\n",
      "    exitcode = _main(fd, parent_sentinel)\n",
      "  File \"/Users/madhavajay/.pyenv/versions/3.10.9/lib/python3.10/multiprocessing/spawn.py\", line 125, in _main\n",
      "    prepare(preparation_data)\n",
      "  File \"/Users/madhavajay/.pyenv/versions/3.10.9/lib/python3.10/multiprocessing/spawn.py\", line 236, in prepare\n",
      "    _fixup_main_from_path(data['init_main_from_path'])\n",
      "  File \"/Users/madhavajay/.pyenv/versions/3.10.9/lib/python3.10/multiprocessing/spawn.py\", line 287, in _fixup_main_from_path\n",
      "    main_content = runpy.run_path(main_path,\n",
      "  File \"/Users/madhavajay/.pyenv/versions/3.10.9/lib/python3.10/runpy.py\", line 289, in run_path\n",
      "    return _run_module_code(code, init_globals, run_name,\n",
      "  File \"/Users/madhavajay/.pyenv/versions/3.10.9/lib/python3.10/runpy.py\", line 96, in _run_module_code\n",
      "    _run_code(code, mod_globals, init_globals,\n",
      "  File \"/Users/madhavajay/.pyenv/versions/3.10.9/lib/python3.10/runpy.py\", line 86, in _run_code\n",
      "    exec(code, run_globals)\n",
      "  File \"/Users/madhavajay/dev/python_concurrency/Untitled.ipynb\", line 92, in <module>\n",
      "    \"execution_count\": null,\n",
      "NameError: name 'null' is not defined\n",
      "Traceback (most recent call last):\n",
      "  File \"<string>\", line 1, in <module>\n",
      "  File \"/Users/madhavajay/.pyenv/versions/3.10.9/lib/python3.10/multiprocessing/spawn.py\", line 116, in spawn_main\n",
      "    exitcode = _main(fd, parent_sentinel)\n",
      "  File \"/Users/madhavajay/.pyenv/versions/3.10.9/lib/python3.10/multiprocessing/spawn.py\", line 125, in _main\n",
      "    prepare(preparation_data)\n",
      "  File \"/Users/madhavajay/.pyenv/versions/3.10.9/lib/python3.10/multiprocessing/spawn.py\", line 236, in prepare\n",
      "    _fixup_main_from_path(data['init_main_from_path'])\n",
      "  File \"/Users/madhavajay/.pyenv/versions/3.10.9/lib/python3.10/multiprocessing/spawn.py\", line 287, in _fixup_main_from_path\n",
      "    main_content = runpy.run_path(main_path,\n",
      "  File \"/Users/madhavajay/.pyenv/versions/3.10.9/lib/python3.10/runpy.py\", line 289, in run_path\n",
      "    return _run_module_code(code, init_globals, run_name,\n",
      "  File \"/Users/madhavajay/.pyenv/versions/3.10.9/lib/python3.10/runpy.py\", line 96, in _run_module_code\n",
      "    _run_code(code, mod_globals, init_globals,\n",
      "  File \"/Users/madhavajay/.pyenv/versions/3.10.9/lib/python3.10/runpy.py\", line 86, in _run_code\n",
      "    exec(code, run_globals)\n",
      "  File \"/Users/madhavajay/dev/python_concurrency/Untitled.ipynb\", line 92, in <module>\n",
      "    \"execution_count\": null,\n",
      "NameError: name 'null' is not defined\n",
      "Traceback (most recent call last):\n",
      "  File \"<string>\", line 1, in <module>\n",
      "  File \"/Users/madhavajay/.pyenv/versions/3.10.9/lib/python3.10/multiprocessing/spawn.py\", line 116, in spawn_main\n",
      "    exitcode = _main(fd, parent_sentinel)\n",
      "  File \"/Users/madhavajay/.pyenv/versions/3.10.9/lib/python3.10/multiprocessing/spawn.py\", line 125, in _main\n",
      "    prepare(preparation_data)\n",
      "  File \"/Users/madhavajay/.pyenv/versions/3.10.9/lib/python3.10/multiprocessing/spawn.py\", line 236, in prepare\n",
      "    _fixup_main_from_path(data['init_main_from_path'])\n",
      "  File \"/Users/madhavajay/.pyenv/versions/3.10.9/lib/python3.10/multiprocessing/spawn.py\", line 287, in _fixup_main_from_path\n",
      "    main_content = runpy.run_path(main_path,\n",
      "  File \"/Users/madhavajay/.pyenv/versions/3.10.9/lib/python3.10/runpy.py\", line 289, in run_path\n",
      "    return _run_module_code(code, init_globals, run_name,\n",
      "  File \"/Users/madhavajay/.pyenv/versions/3.10.9/lib/python3.10/runpy.py\", line 96, in _run_module_code\n",
      "    _run_code(code, mod_globals, init_globals,\n",
      "  File \"/Users/madhavajay/.pyenv/versions/3.10.9/lib/python3.10/runpy.py\", line 86, in _run_code\n",
      "    exec(code, run_globals)\n",
      "  File \"/Users/madhavajay/dev/python_concurrency/Untitled.ipynb\", line 92, in <module>\n",
      "    \"execution_count\": null,\n",
      "NameError: name 'null' is not defined\n",
      "Traceback (most recent call last):\n",
      "  File \"<string>\", line 1, in <module>\n",
      "  File \"/Users/madhavajay/.pyenv/versions/3.10.9/lib/python3.10/multiprocessing/spawn.py\", line 116, in spawn_main\n",
      "    exitcode = _main(fd, parent_sentinel)\n",
      "  File \"/Users/madhavajay/.pyenv/versions/3.10.9/lib/python3.10/multiprocessing/spawn.py\", line 125, in _main\n",
      "    prepare(preparation_data)\n",
      "  File \"/Users/madhavajay/.pyenv/versions/3.10.9/lib/python3.10/multiprocessing/spawn.py\", line 236, in prepare\n",
      "    _fixup_main_from_path(data['init_main_from_path'])\n",
      "  File \"/Users/madhavajay/.pyenv/versions/3.10.9/lib/python3.10/multiprocessing/spawn.py\", line 287, in _fixup_main_from_path\n",
      "    main_content = runpy.run_path(main_path,\n",
      "  File \"/Users/madhavajay/.pyenv/versions/3.10.9/lib/python3.10/runpy.py\", line 289, in run_path\n",
      "    return _run_module_code(code, init_globals, run_name,\n",
      "  File \"/Users/madhavajay/.pyenv/versions/3.10.9/lib/python3.10/runpy.py\", line 96, in _run_module_code\n",
      "    _run_code(code, mod_globals, init_globals,\n",
      "  File \"/Users/madhavajay/.pyenv/versions/3.10.9/lib/python3.10/runpy.py\", line 86, in _run_code\n",
      "    exec(code, run_globals)\n",
      "  File \"/Users/madhavajay/dev/python_concurrency/Untitled.ipynb\", line 92, in <module>\n",
      "    \"execution_count\": null,\n",
      "NameError: name 'null' is not defined\n",
      "Traceback (most recent call last):\n",
      "  File \"<string>\", line 1, in <module>\n",
      "  File \"/Users/madhavajay/.pyenv/versions/3.10.9/lib/python3.10/multiprocessing/spawn.py\", line 116, in spawn_main\n",
      "    exitcode = _main(fd, parent_sentinel)\n",
      "  File \"/Users/madhavajay/.pyenv/versions/3.10.9/lib/python3.10/multiprocessing/spawn.py\", line 125, in _main\n",
      "    prepare(preparation_data)\n",
      "  File \"/Users/madhavajay/.pyenv/versions/3.10.9/lib/python3.10/multiprocessing/spawn.py\", line 236, in prepare\n",
      "    _fixup_main_from_path(data['init_main_from_path'])\n",
      "  File \"/Users/madhavajay/.pyenv/versions/3.10.9/lib/python3.10/multiprocessing/spawn.py\", line 287, in _fixup_main_from_path\n",
      "    main_content = runpy.run_path(main_path,\n",
      "  File \"/Users/madhavajay/.pyenv/versions/3.10.9/lib/python3.10/runpy.py\", line 289, in run_path\n",
      "    return _run_module_code(code, init_globals, run_name,\n",
      "  File \"/Users/madhavajay/.pyenv/versions/3.10.9/lib/python3.10/runpy.py\", line 96, in _run_module_code\n",
      "    _run_code(code, mod_globals, init_globals,\n",
      "  File \"/Users/madhavajay/.pyenv/versions/3.10.9/lib/python3.10/runpy.py\", line 86, in _run_code\n",
      "    exec(code, run_globals)\n",
      "  File \"/Users/madhavajay/dev/python_concurrency/Untitled.ipynb\", line 92, in <module>\n",
      "    \"execution_count\": null,\n",
      "NameError: name 'null' is not defined\n",
      "Traceback (most recent call last):\n",
      "  File \"<string>\", line 1, in <module>\n",
      "  File \"/Users/madhavajay/.pyenv/versions/3.10.9/lib/python3.10/multiprocessing/spawn.py\", line 116, in spawn_main\n",
      "    exitcode = _main(fd, parent_sentinel)\n",
      "  File \"/Users/madhavajay/.pyenv/versions/3.10.9/lib/python3.10/multiprocessing/spawn.py\", line 125, in _main\n",
      "    prepare(preparation_data)\n",
      "  File \"/Users/madhavajay/.pyenv/versions/3.10.9/lib/python3.10/multiprocessing/spawn.py\", line 236, in prepare\n",
      "    _fixup_main_from_path(data['init_main_from_path'])\n",
      "  File \"/Users/madhavajay/.pyenv/versions/3.10.9/lib/python3.10/multiprocessing/spawn.py\", line 287, in _fixup_main_from_path\n",
      "    main_content = runpy.run_path(main_path,\n",
      "  File \"/Users/madhavajay/.pyenv/versions/3.10.9/lib/python3.10/runpy.py\", line 289, in run_path\n",
      "    return _run_module_code(code, init_globals, run_name,\n",
      "  File \"/Users/madhavajay/.pyenv/versions/3.10.9/lib/python3.10/runpy.py\", line 96, in _run_module_code\n",
      "    _run_code(code, mod_globals, init_globals,\n",
      "  File \"/Users/madhavajay/.pyenv/versions/3.10.9/lib/python3.10/runpy.py\", line 86, in _run_code\n",
      "    exec(code, run_globals)\n",
      "  File \"/Users/madhavajay/dev/python_concurrency/Untitled.ipynb\", line 92, in <module>\n",
      "    \"execution_count\": null,\n",
      "NameError: name 'null' is not defined\n",
      "Traceback (most recent call last):\n",
      "  File \"<string>\", line 1, in <module>\n",
      "  File \"/Users/madhavajay/.pyenv/versions/3.10.9/lib/python3.10/multiprocessing/spawn.py\", line 116, in spawn_main\n",
      "    exitcode = _main(fd, parent_sentinel)\n",
      "  File \"/Users/madhavajay/.pyenv/versions/3.10.9/lib/python3.10/multiprocessing/spawn.py\", line 125, in _main\n",
      "    prepare(preparation_data)\n",
      "  File \"/Users/madhavajay/.pyenv/versions/3.10.9/lib/python3.10/multiprocessing/spawn.py\", line 236, in prepare\n",
      "    _fixup_main_from_path(data['init_main_from_path'])\n",
      "  File \"/Users/madhavajay/.pyenv/versions/3.10.9/lib/python3.10/multiprocessing/spawn.py\", line 287, in _fixup_main_from_path\n",
      "    main_content = runpy.run_path(main_path,\n",
      "  File \"/Users/madhavajay/.pyenv/versions/3.10.9/lib/python3.10/runpy.py\", line 289, in run_path\n",
      "    return _run_module_code(code, init_globals, run_name,\n",
      "  File \"/Users/madhavajay/.pyenv/versions/3.10.9/lib/python3.10/runpy.py\", line 96, in _run_module_code\n",
      "    _run_code(code, mod_globals, init_globals,\n",
      "  File \"/Users/madhavajay/.pyenv/versions/3.10.9/lib/python3.10/runpy.py\", line 86, in _run_code\n",
      "    exec(code, run_globals)\n",
      "  File \"/Users/madhavajay/dev/python_concurrency/Untitled.ipynb\", line 92, in <module>\n",
      "    \"execution_count\": null,\n",
      "NameError: name 'null' is not defined\n"
     ]
    }
   ],
   "source": [
    "await amain()"
   ]
  },
  {
   "cell_type": "code",
   "execution_count": null,
   "id": "f5787c4a-94e8-47ba-ad41-91b159f42084",
   "metadata": {},
   "outputs": [],
   "source": []
  }
 ],
 "metadata": {
  "kernelspec": {
   "display_name": "Python 3 (ipykernel)",
   "language": "python",
   "name": "python3"
  },
  "language_info": {
   "codemirror_mode": {
    "name": "ipython",
    "version": 3
   },
   "file_extension": ".py",
   "mimetype": "text/x-python",
   "name": "python",
   "nbconvert_exporter": "python",
   "pygments_lexer": "ipython3",
   "version": "3.10.9"
  }
 },
 "nbformat": 4,
 "nbformat_minor": 5
}
