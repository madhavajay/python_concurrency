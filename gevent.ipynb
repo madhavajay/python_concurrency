{
 "cells": [
  {
   "cell_type": "code",
   "execution_count": null,
   "id": "b744ecd9-13b0-45e3-9034-fce1383dfed4",
   "metadata": {
    "tags": []
   },
   "outputs": [],
   "source": [
    "# !pip install cloudpickle"
   ]
  },
  {
   "cell_type": "code",
   "execution_count": null,
   "id": "9a96f9da-fdb2-4f6e-a97a-8f62c46d21d7",
   "metadata": {
    "tags": []
   },
   "outputs": [],
   "source": [
    "# from gevent import monkey; monkey.patch_all()"
   ]
  },
  {
   "cell_type": "code",
   "execution_count": null,
   "id": "74d5dad4-1034-4d94-9a51-b35edfc7eaf1",
   "metadata": {
    "tags": []
   },
   "outputs": [],
   "source": [
    "%load_ext autoreload\n",
    "%autoreload 2"
   ]
  },
  {
   "cell_type": "code",
   "execution_count": null,
   "id": "5f1ea434-23cb-4467-b0dd-8831d825c522",
   "metadata": {
    "tags": []
   },
   "outputs": [],
   "source": [
    "import syft as sy"
   ]
  },
  {
   "cell_type": "code",
   "execution_count": null,
   "id": "b0fac8e9-daf4-45e7-80db-8890f99eb8d4",
   "metadata": {
    "tags": []
   },
   "outputs": [],
   "source": [
    "from syft import Worker"
   ]
  },
  {
   "cell_type": "code",
   "execution_count": null,
   "id": "a807f9cb-4db1-423d-832b-dc8f56adfeef",
   "metadata": {
    "tags": []
   },
   "outputs": [],
   "source": [
    "worker = Worker()\n",
    "client = sy.new_login(node=worker, email=\"info@openmined.org\", password=\"changethis\")"
   ]
  },
  {
   "cell_type": "code",
   "execution_count": null,
   "id": "f058ca3d-5b3a-4541-8f8d-87a851dd8246",
   "metadata": {
    "tags": []
   },
   "outputs": [],
   "source": [
    "client.api"
   ]
  },
  {
   "cell_type": "code",
   "execution_count": null,
   "id": "8c3f69b1-f203-41b0-a719-736dfab6a53d",
   "metadata": {
    "tags": []
   },
   "outputs": [],
   "source": [
    "%%time\n",
    "client.api.services.executor.run_task(1.2)"
   ]
  },
  {
   "cell_type": "code",
   "execution_count": null,
   "id": "f4ce73b8-b267-40cf-9d98-a429d31888dc",
   "metadata": {
    "tags": []
   },
   "outputs": [],
   "source": [
    "print(\"test\")"
   ]
  },
  {
   "cell_type": "code",
   "execution_count": null,
   "id": "da5143e4-c7b9-4011-9ead-8ac8e445e91f",
   "metadata": {
    "tags": []
   },
   "outputs": [],
   "source": [
    "client.api.services.executor.get_results()"
   ]
  },
  {
   "cell_type": "code",
   "execution_count": null,
   "id": "c0f614b6-fc67-4adc-b453-7ba5aaf456b1",
   "metadata": {},
   "outputs": [],
   "source": []
  },
  {
   "cell_type": "code",
   "execution_count": null,
   "id": "47228680-3a40-4a4b-b645-136997f4584b",
   "metadata": {},
   "outputs": [],
   "source": []
  },
  {
   "cell_type": "code",
   "execution_count": null,
   "id": "4cdce5b6-74f2-474c-8284-6a178c72bc94",
   "metadata": {
    "tags": []
   },
   "outputs": [],
   "source": [
    "from gevent import monkey; monkey.patch_all()"
   ]
  },
  {
   "cell_type": "code",
   "execution_count": null,
   "id": "7a0dab4d-be83-464a-b372-f7d5be7712b9",
   "metadata": {
    "tags": []
   },
   "outputs": [],
   "source": [
    "import gevent\n",
    "import gipc\n",
    "import time"
   ]
  },
  {
   "cell_type": "code",
   "execution_count": null,
   "id": "8bbc72c3-492d-4d14-8121-f88d6ee94f2b",
   "metadata": {
    "tags": []
   },
   "outputs": [],
   "source": [
    "monkey.patch_all()"
   ]
  },
  {
   "cell_type": "code",
   "execution_count": null,
   "id": "f1bbfed6-a05d-4cde-a79c-cedd3fb7a194",
   "metadata": {
    "tags": []
   },
   "outputs": [],
   "source": [
    "def cpu_bound_func(total: int = 250_000_00) -> None:\n",
    "    import numpy as np\n",
    "    x = np.array([range(total)])\n",
    "    y = x.sum()\n",
    "    print(\"Did work\", y)\n",
    "    return y"
   ]
  },
  {
   "cell_type": "code",
   "execution_count": null,
   "id": "368a927e-6ea1-4f44-9b6a-2640aa883c6e",
   "metadata": {
    "tags": []
   },
   "outputs": [],
   "source": [
    "%%time\n",
    "cpu_bound_func(250_000_00)"
   ]
  },
  {
   "cell_type": "code",
   "execution_count": null,
   "id": "18eea39a-997e-456b-9e56-7c32f2a17cf4",
   "metadata": {
    "tags": []
   },
   "outputs": [],
   "source": [
    "def runner(reader):\n",
    "    print(\"type of reader\", type(reader)) \n",
    "    with reader:\n",
    "        try:\n",
    "            iters = reader.get()\n",
    "            print(\"got iters\", iters)\n",
    "            result = cpu_bound_func(iters)\n",
    "            print(\"got result\", result)\n",
    "            reader.put(result)\n",
    "            reader.close()\n",
    "        except Exception as e:\n",
    "            print(\"got excpection in process\", e)\n",
    "            reader.close()"
   ]
  },
  {
   "cell_type": "code",
   "execution_count": null,
   "id": "8c8aaa16-2d80-4ebd-a2f3-a46cc36f5b3e",
   "metadata": {
    "tags": []
   },
   "outputs": [],
   "source": [
    "def writer(writer, data):\n",
    "    print(\"writer\", \"data\", writer, data)\n",
    "    with writer:\n",
    "        writer.put(data)\n",
    "        gevent.sleep(1)\n",
    "        result = writer.get()\n",
    "        writer.close()\n",
    "        print(\"got result in greenthread\", result)\n",
    "    return result"
   ]
  },
  {
   "cell_type": "code",
   "execution_count": null,
   "id": "4d5156b4-bb41-4f04-9402-0d1af8eae67b",
   "metadata": {
    "tags": []
   },
   "outputs": [],
   "source": [
    "def task(pid, arg, db):\n",
    "    print(\"got arg in taks\", arg)\n",
    "    \"\"\"\n",
    "    Some non-deterministic task\n",
    "    \"\"\"\n",
    "    # cpu_bound_func()\n",
    "    # with gipc.pipe() as (r, w):\n",
    "    with gipc.pipe(duplex=True) as (cend, pend):\n",
    "\n",
    "        p = gipc.start_process(runner, args=(cend,))\n",
    "        wg = gevent.spawn(writer, pend, arg)\n",
    "        print(\"what is wg\", wg)\n",
    "        # wg.join()\n",
    "        print(\"wg value\", wg.value)\n",
    "        try:\n",
    "            p.join()\n",
    "        except KeyboardInterrupt:\n",
    "            wg.kill(block=True)\n",
    "            p.terminate()\n",
    "        p.join()\n",
    "    \n",
    "    print(\"end\", wg.value)\n",
    "    db[pid] = wg.value\n",
    "    return wg.value"
   ]
  },
  {
   "cell_type": "code",
   "execution_count": null,
   "id": "a538561b-4607-42fb-9eb2-b48f187394e5",
   "metadata": {
    "tags": []
   },
   "outputs": [],
   "source": []
  },
  {
   "cell_type": "code",
   "execution_count": null,
   "id": "c8a6f074-b8a5-4d7e-a9a9-14640727e6e4",
   "metadata": {
    "tags": []
   },
   "outputs": [],
   "source": [
    "db = {}\n",
    "process_count = 10\n",
    "def asynchronous():\n",
    "    data = 500_000_00\n",
    "    threads = [gevent.spawn(task, i, data, db) for i in range(process_count)]\n",
    "    # gevent.joinall(threads)\n",
    "    # results = [thread.value for thread in threads]\n",
    "    # print(\"final results\", results)\n",
    "\n",
    "print('Asynchronous:')\n",
    "asynchronous()"
   ]
  },
  {
   "cell_type": "code",
   "execution_count": null,
   "id": "5185a4f5-3812-4b25-bef5-c6a8de8a1308",
   "metadata": {
    "tags": []
   },
   "outputs": [],
   "source": []
  },
  {
   "cell_type": "code",
   "execution_count": null,
   "id": "80b9d1d4-72bf-4e62-b42e-ec7fbe93061a",
   "metadata": {
    "tags": []
   },
   "outputs": [],
   "source": [
    "while len(db.keys()) < process_count:\n",
    "    print(\".\", end=\"\")\n",
    "    time.sleep(1)\n",
    "    print(\"len\", len(db.keys()))\n",
    "print(\"results arrived\", db)"
   ]
  },
  {
   "cell_type": "code",
   "execution_count": null,
   "id": "8202ff29-94c3-454a-9a9b-a69465049e10",
   "metadata": {
    "tags": []
   },
   "outputs": [],
   "source": [
    "db"
   ]
  },
  {
   "cell_type": "code",
   "execution_count": null,
   "id": "b2ef8c04-0858-40e6-88f8-695abbcfd7ec",
   "metadata": {},
   "outputs": [],
   "source": []
  },
  {
   "cell_type": "code",
   "execution_count": null,
   "id": "a00c87e3-22df-4f06-b70e-99c1e4225051",
   "metadata": {},
   "outputs": [],
   "source": []
  }
 ],
 "metadata": {
  "kernelspec": {
   "display_name": "Python 3 (ipykernel)",
   "language": "python",
   "name": "python3"
  },
  "language_info": {
   "codemirror_mode": {
    "name": "ipython",
    "version": 3
   },
   "file_extension": ".py",
   "mimetype": "text/x-python",
   "name": "python",
   "nbconvert_exporter": "python",
   "pygments_lexer": "ipython3",
   "version": "3.10.9"
  }
 },
 "nbformat": 4,
 "nbformat_minor": 5
}
